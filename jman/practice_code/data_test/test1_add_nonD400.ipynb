{
 "cells": [
  {
   "cell_type": "markdown",
   "id": "dc9db56b",
   "metadata": {},
   "source": [
    "# TEST1: add non-disaster 400 lines\n",
    "## performing measurement\n",
    "### Disaster Tweet Classification with Disaster Tweets\n",
    "\n",
    "------------------\n",
    "### GOAL\n",
    "- comparing the performance of different word representation\n",
    "    - word2vec vs. word count\n",
    "- Predicting whether a given tweet is about a real disaster or not\n",
    "- if so, predict a `1`. if not, predict a `0`\n",
    "\n",
    "\n",
    "### Reference\n",
    "- [competition main page](https://www.kaggle.com/c/nlp-getting-started)\n",
    "- [word2vec code](https://www.kaggle.com/slatawa/simple-implementation-of-word2vec)\n",
    "- [word2vec-implementation-for-beginner](https://www.kaggle.com/manavkapadnis/nlp-word2vec-implementation-for-beginner)\n",
    "- [word count](https://www.kaggle.com/datarohitingole/disaster-tweet-classification-ridgeclassifiercv)\n",
    "- [comparing the performance of different Machine Learning Algorithm](https://dibyendudeb.com/comparing-machine-learning-algorithms/)\n",
    "- [Text Classification with NLP: Tf-Idf vs Word2Vec vs BERT](https://towardsdatascience.com/text-classification-with-nlp-tf-idf-vs-word2vec-vs-bert-41ff868d1794)"
   ]
  },
  {
   "cell_type": "markdown",
   "id": "d04fc9bf",
   "metadata": {},
   "source": [
    "# 0. Importing Libraries"
   ]
  },
  {
   "cell_type": "code",
   "execution_count": 1,
   "id": "0811edc3",
   "metadata": {},
   "outputs": [
    {
     "name": "stderr",
     "output_type": "stream",
     "text": [
      "[nltk_data] Downloading package wordnet to /Users/mac/nltk_data...\n",
      "[nltk_data]   Package wordnet is already up-to-date!\n",
      "[nltk_data] Downloading package punkt to /Users/mac/nltk_data...\n",
      "[nltk_data]   Package punkt is already up-to-date!\n"
     ]
    }
   ],
   "source": [
    "# for loading and preprocessing the data\n",
    "import numpy as np\n",
    "import pandas as pd\n",
    "import matplotlib.pyplot as plt\n",
    "import seaborn as sns\n",
    "import string\n",
    "import re\n",
    "\n",
    "# for training the model\n",
    "from sklearn.model_selection import train_test_split\n",
    "from sklearn.feature_extraction.text import CountVectorizer\n",
    "from sklearn import tree, linear_model, neighbors, naive_bayes, ensemble\n",
    "from xgboost import XGBClassifier\n",
    "from catboost import CatBoostClassifier\n",
    "\n",
    "# for evaluating classification model\n",
    "from sklearn.metrics import accuracy_score, confusion_matrix\n",
    "from sklearn.model_selection import cross_val_score\n",
    "from sklearn.metrics import f1_score\n",
    "\n",
    "# for data cleaning\n",
    "import nltk\n",
    "from nltk.corpus import stopwords\n",
    "from nltk.stem import WordNetLemmatizer\n",
    "from nltk.tokenize import word_tokenize\n",
    "nltk.download('wordnet')\n",
    "nltk.download('punkt')\n",
    "\n",
    "\n",
    "# Keras\n",
    "from keras.preprocessing.text import Tokenizer\n",
    "from keras.preprocessing.sequence import pad_sequences\n",
    "from keras.models import Sequential\n",
    "from keras.layers import Activation, Dense, Dropout, Embedding, Flatten, Conv1D, MaxPooling1D, LSTM\n",
    "\n",
    "# for word2vec\n",
    "import gensim\n",
    "from gensim.models import Word2Vec\n",
    "\n",
    "# Comparing all machine learning algorithms\n",
    "from sklearn.metrics import mean_squared_error,confusion_matrix, precision_score, recall_score, auc,roc_curve"
   ]
  },
  {
   "cell_type": "markdown",
   "id": "925f0b63",
   "metadata": {},
   "source": [
    "# 2. Data Preprocessing\n",
    "## Contents\n",
    "### 1. Clean the data\n",
    "- dealing with missing values\n",
    "- replace some commonly occuring shorthands\n",
    "- remove any characters other then alphabets\n",
    "- convert all dicitonary to lower case(for consistency)\n",
    "- lemmatize\n",
    "\n",
    "### 2-1. word tokenization and word2vec\n",
    "\n",
    "### 2-2. Convert text to vectors using Counter vectorizer\n",
    "\n"
   ]
  },
  {
   "cell_type": "markdown",
   "id": "caef4422",
   "metadata": {},
   "source": [
    "\n",
    "\n",
    "## Data Description\n",
    "--------------\n",
    "### Files\n",
    "- `train.csv` : the training set\n",
    "- `test.csv` : the test set\n",
    "- `sample_submission.csv` : a sample submission file in the correct format\n",
    "\n",
    "### Columns\n",
    "- `id` : a unique identifier for each tweet\n",
    "- `text` : the text of the tweet\n",
    "- `location` : the location the tweet was sent from \n",
    "- `keyword` : a particular keyword from th tweet\n",
    "- `target` : in train.csv only, this denotes whether a tweet is about a real disaster(1) or not(0)"
   ]
  },
  {
   "cell_type": "code",
   "execution_count": 2,
   "id": "810ff18c",
   "metadata": {},
   "outputs": [],
   "source": [
    "# loading the data set\n",
    "data_path = './data/'\n",
    "add_nonD = pd.read_csv(data_path + 'train_add_nonD400.csv')"
   ]
  },
  {
   "cell_type": "code",
   "execution_count": 3,
   "id": "879ad5c1",
   "metadata": {},
   "outputs": [
    {
     "name": "stdout",
     "output_type": "stream",
     "text": [
      "train_shape: (8013, 5)\n"
     ]
    },
    {
     "data": {
      "text/html": [
       "<div>\n",
       "<style scoped>\n",
       "    .dataframe tbody tr th:only-of-type {\n",
       "        vertical-align: middle;\n",
       "    }\n",
       "\n",
       "    .dataframe tbody tr th {\n",
       "        vertical-align: top;\n",
       "    }\n",
       "\n",
       "    .dataframe thead th {\n",
       "        text-align: right;\n",
       "    }\n",
       "</style>\n",
       "<table border=\"1\" class=\"dataframe\">\n",
       "  <thead>\n",
       "    <tr style=\"text-align: right;\">\n",
       "      <th></th>\n",
       "      <th>id</th>\n",
       "      <th>keyword</th>\n",
       "      <th>location</th>\n",
       "      <th>text</th>\n",
       "      <th>target</th>\n",
       "    </tr>\n",
       "  </thead>\n",
       "  <tbody>\n",
       "    <tr>\n",
       "      <th>0</th>\n",
       "      <td>1</td>\n",
       "      <td>NaN</td>\n",
       "      <td>NaN</td>\n",
       "      <td>Our Deeds are the Reason of this #earthquake M...</td>\n",
       "      <td>1</td>\n",
       "    </tr>\n",
       "    <tr>\n",
       "      <th>1</th>\n",
       "      <td>4</td>\n",
       "      <td>NaN</td>\n",
       "      <td>NaN</td>\n",
       "      <td>Forest fire near La Ronge Sask. Canada</td>\n",
       "      <td>1</td>\n",
       "    </tr>\n",
       "    <tr>\n",
       "      <th>2</th>\n",
       "      <td>5</td>\n",
       "      <td>NaN</td>\n",
       "      <td>NaN</td>\n",
       "      <td>All residents asked to 'shelter in place' are ...</td>\n",
       "      <td>1</td>\n",
       "    </tr>\n",
       "    <tr>\n",
       "      <th>3</th>\n",
       "      <td>6</td>\n",
       "      <td>NaN</td>\n",
       "      <td>NaN</td>\n",
       "      <td>13,000 people receive #wildfires evacuation or...</td>\n",
       "      <td>1</td>\n",
       "    </tr>\n",
       "    <tr>\n",
       "      <th>4</th>\n",
       "      <td>7</td>\n",
       "      <td>NaN</td>\n",
       "      <td>NaN</td>\n",
       "      <td>Just got sent this photo from Ruby #Alaska as ...</td>\n",
       "      <td>1</td>\n",
       "    </tr>\n",
       "  </tbody>\n",
       "</table>\n",
       "</div>"
      ],
      "text/plain": [
       "   id keyword location                                               text  \\\n",
       "0   1     NaN      NaN  Our Deeds are the Reason of this #earthquake M...   \n",
       "1   4     NaN      NaN             Forest fire near La Ronge Sask. Canada   \n",
       "2   5     NaN      NaN  All residents asked to 'shelter in place' are ...   \n",
       "3   6     NaN      NaN  13,000 people receive #wildfires evacuation or...   \n",
       "4   7     NaN      NaN  Just got sent this photo from Ruby #Alaska as ...   \n",
       "\n",
       "   target  \n",
       "0       1  \n",
       "1       1  \n",
       "2       1  \n",
       "3       1  \n",
       "4       1  "
      ]
     },
     "execution_count": 3,
     "metadata": {},
     "output_type": "execute_result"
    }
   ],
   "source": [
    "print('train_shape:', add_nonD.shape)\n",
    "add_nonD.head()"
   ]
  },
  {
   "cell_type": "code",
   "execution_count": 4,
   "id": "bd7081bd",
   "metadata": {},
   "outputs": [],
   "source": [
    "# split the data <train : test = 8 : 2>\n",
    "train, test = train_test_split(add_nonD, test_size = 0.20, random_state = 0)"
   ]
  },
  {
   "cell_type": "code",
   "execution_count": 5,
   "id": "67d35830",
   "metadata": {},
   "outputs": [
    {
     "name": "stdout",
     "output_type": "stream",
     "text": [
      "train shape: (6410, 5)\n"
     ]
    },
    {
     "data": {
      "text/html": [
       "<div>\n",
       "<style scoped>\n",
       "    .dataframe tbody tr th:only-of-type {\n",
       "        vertical-align: middle;\n",
       "    }\n",
       "\n",
       "    .dataframe tbody tr th {\n",
       "        vertical-align: top;\n",
       "    }\n",
       "\n",
       "    .dataframe thead th {\n",
       "        text-align: right;\n",
       "    }\n",
       "</style>\n",
       "<table border=\"1\" class=\"dataframe\">\n",
       "  <thead>\n",
       "    <tr style=\"text-align: right;\">\n",
       "      <th></th>\n",
       "      <th>id</th>\n",
       "      <th>keyword</th>\n",
       "      <th>location</th>\n",
       "      <th>text</th>\n",
       "      <th>target</th>\n",
       "    </tr>\n",
       "  </thead>\n",
       "  <tbody>\n",
       "    <tr>\n",
       "      <th>7233</th>\n",
       "      <td>10359</td>\n",
       "      <td>weapons</td>\n",
       "      <td>california | oregon | peru |</td>\n",
       "      <td>@DorisMatsui thank you for supporting the Pres...</td>\n",
       "      <td>0</td>\n",
       "    </tr>\n",
       "    <tr>\n",
       "      <th>4685</th>\n",
       "      <td>6661</td>\n",
       "      <td>landslide</td>\n",
       "      <td>New York City</td>\n",
       "      <td>Inbounds/ Out of Bounds:\\n\\nWhile many picked ...</td>\n",
       "      <td>1</td>\n",
       "    </tr>\n",
       "    <tr>\n",
       "      <th>1722</th>\n",
       "      <td>2485</td>\n",
       "      <td>collided</td>\n",
       "      <td>bk.</td>\n",
       "      <td>She looked back &amp;amp; her daughter &amp;amp; said ...</td>\n",
       "      <td>0</td>\n",
       "    </tr>\n",
       "    <tr>\n",
       "      <th>3433</th>\n",
       "      <td>4909</td>\n",
       "      <td>explode</td>\n",
       "      <td>New Hampshire</td>\n",
       "      <td>@DelDryden If I press on the twitch will my he...</td>\n",
       "      <td>0</td>\n",
       "    </tr>\n",
       "    <tr>\n",
       "      <th>1595</th>\n",
       "      <td>2303</td>\n",
       "      <td>cliff%20fall</td>\n",
       "      <td>The Netherlands</td>\n",
       "      <td>#NowPlaying * Cliff Richard - I Could Easily F...</td>\n",
       "      <td>0</td>\n",
       "    </tr>\n",
       "  </tbody>\n",
       "</table>\n",
       "</div>"
      ],
      "text/plain": [
       "         id       keyword                      location  \\\n",
       "7233  10359       weapons  california | oregon | peru |   \n",
       "4685   6661     landslide                 New York City   \n",
       "1722   2485      collided                          bk.    \n",
       "3433   4909       explode                 New Hampshire   \n",
       "1595   2303  cliff%20fall               The Netherlands   \n",
       "\n",
       "                                                   text  target  \n",
       "7233  @DorisMatsui thank you for supporting the Pres...       0  \n",
       "4685  Inbounds/ Out of Bounds:\\n\\nWhile many picked ...       1  \n",
       "1722  She looked back &amp; her daughter &amp; said ...       0  \n",
       "3433  @DelDryden If I press on the twitch will my he...       0  \n",
       "1595  #NowPlaying * Cliff Richard - I Could Easily F...       0  "
      ]
     },
     "execution_count": 5,
     "metadata": {},
     "output_type": "execute_result"
    }
   ],
   "source": [
    "print('train shape:', train.shape)\n",
    "train.head()"
   ]
  },
  {
   "cell_type": "code",
   "execution_count": 6,
   "id": "2d4ab3a5",
   "metadata": {},
   "outputs": [
    {
     "name": "stdout",
     "output_type": "stream",
     "text": [
      "test shape: (1603, 5)\n"
     ]
    },
    {
     "data": {
      "text/html": [
       "<div>\n",
       "<style scoped>\n",
       "    .dataframe tbody tr th:only-of-type {\n",
       "        vertical-align: middle;\n",
       "    }\n",
       "\n",
       "    .dataframe tbody tr th {\n",
       "        vertical-align: top;\n",
       "    }\n",
       "\n",
       "    .dataframe thead th {\n",
       "        text-align: right;\n",
       "    }\n",
       "</style>\n",
       "<table border=\"1\" class=\"dataframe\">\n",
       "  <thead>\n",
       "    <tr style=\"text-align: right;\">\n",
       "      <th></th>\n",
       "      <th>id</th>\n",
       "      <th>keyword</th>\n",
       "      <th>location</th>\n",
       "      <th>text</th>\n",
       "      <th>target</th>\n",
       "    </tr>\n",
       "  </thead>\n",
       "  <tbody>\n",
       "    <tr>\n",
       "      <th>1060</th>\n",
       "      <td>1531</td>\n",
       "      <td>bomb</td>\n",
       "      <td>NaN</td>\n",
       "      <td>beforeitsnews : Global Derivatives: $1.5 Quadr...</td>\n",
       "      <td>0</td>\n",
       "    </tr>\n",
       "    <tr>\n",
       "      <th>5463</th>\n",
       "      <td>7793</td>\n",
       "      <td>police</td>\n",
       "      <td>Los Angeles</td>\n",
       "      <td>.@slosheriff: 2 South Gate police officers and...</td>\n",
       "      <td>0</td>\n",
       "    </tr>\n",
       "    <tr>\n",
       "      <th>5430</th>\n",
       "      <td>7749</td>\n",
       "      <td>police</td>\n",
       "      <td>NaN</td>\n",
       "      <td>These fucking police can't touch me  these fuc...</td>\n",
       "      <td>0</td>\n",
       "    </tr>\n",
       "    <tr>\n",
       "      <th>776</th>\n",
       "      <td>1123</td>\n",
       "      <td>blew%20up</td>\n",
       "      <td>NaN</td>\n",
       "      <td>Ye did the same thing to Big Sean and he still...</td>\n",
       "      <td>0</td>\n",
       "    </tr>\n",
       "    <tr>\n",
       "      <th>1845</th>\n",
       "      <td>2655</td>\n",
       "      <td>crush</td>\n",
       "      <td>Kaneohe</td>\n",
       "      <td>@kuualohax more like you love your husband but...</td>\n",
       "      <td>0</td>\n",
       "    </tr>\n",
       "  </tbody>\n",
       "</table>\n",
       "</div>"
      ],
      "text/plain": [
       "        id    keyword      location  \\\n",
       "1060  1531       bomb           NaN   \n",
       "5463  7793     police  Los Angeles    \n",
       "5430  7749     police           NaN   \n",
       "776   1123  blew%20up           NaN   \n",
       "1845  2655      crush       Kaneohe   \n",
       "\n",
       "                                                   text  target  \n",
       "1060  beforeitsnews : Global Derivatives: $1.5 Quadr...       0  \n",
       "5463  .@slosheriff: 2 South Gate police officers and...       0  \n",
       "5430  These fucking police can't touch me  these fuc...       0  \n",
       "776   Ye did the same thing to Big Sean and he still...       0  \n",
       "1845  @kuualohax more like you love your husband but...       0  "
      ]
     },
     "execution_count": 6,
     "metadata": {},
     "output_type": "execute_result"
    }
   ],
   "source": [
    "print('test shape:', test.shape)\n",
    "test.head()"
   ]
  },
  {
   "cell_type": "markdown",
   "id": "feee02df",
   "metadata": {},
   "source": [
    "## 1. Clean the data\n",
    "#### (1) Dealing with Missing Values"
   ]
  },
  {
   "cell_type": "code",
   "execution_count": 7,
   "id": "1f038183",
   "metadata": {},
   "outputs": [
    {
     "name": "stderr",
     "output_type": "stream",
     "text": [
      "/Users/mac/anaconda3/lib/python3.8/site-packages/pandas/core/frame.py:4308: SettingWithCopyWarning: \n",
      "A value is trying to be set on a copy of a slice from a DataFrame\n",
      "\n",
      "See the caveats in the documentation: https://pandas.pydata.org/pandas-docs/stable/user_guide/indexing.html#returning-a-view-versus-a-copy\n",
      "  return super().drop(\n"
     ]
    }
   ],
   "source": [
    "all_data = [train,test]\n",
    "for data in all_data:\n",
    "    data.drop([\"location\", \"id\"], axis = 1, inplace = True)"
   ]
  },
  {
   "cell_type": "code",
   "execution_count": 8,
   "id": "141e33a7",
   "metadata": {},
   "outputs": [],
   "source": [
    "# data prepocessing with regrex\n",
    "\n",
    "def remove_URL(text): # remove url pattern in text\n",
    "    url = re.compile(r'https?://\\S+|www\\.\\S+')\n",
    "    return url.sub(r'', text)\n",
    "\n",
    "def remove_html(text): # remove html pattern in text\n",
    "    html = re.compile(r'<.*?>|&([a-z0-9]+|#[0-9]{1,6}|#x[0-9a-f]{1,6});')\n",
    "    return html.sub(r'', text)\n",
    "    #return re.sub(html, '', text)\n",
    "\n",
    "def remove_punct(text): # remove punctuation in text: (;, ', \", :, ., , etc..)\n",
    "  table = str.maketrans('', '', string.punctuation)\n",
    "  return text.translate(table)"
   ]
  },
  {
   "cell_type": "markdown",
   "id": "e890d11a",
   "metadata": {},
   "source": [
    "#### (2) Replace some commonly occuring shorthands"
   ]
  },
  {
   "cell_type": "code",
   "execution_count": 9,
   "id": "00449129",
   "metadata": {},
   "outputs": [
    {
     "name": "stderr",
     "output_type": "stream",
     "text": [
      "<ipython-input-9-650a1bb61e39>:2: SettingWithCopyWarning: \n",
      "A value is trying to be set on a copy of a slice from a DataFrame.\n",
      "Try using .loc[row_indexer,col_indexer] = value instead\n",
      "\n",
      "See the caveats in the documentation: https://pandas.pydata.org/pandas-docs/stable/user_guide/indexing.html#returning-a-view-versus-a-copy\n",
      "  data['text'] = data['text'].apply(lambda x: remove_URL(x))\n",
      "<ipython-input-9-650a1bb61e39>:3: SettingWithCopyWarning: \n",
      "A value is trying to be set on a copy of a slice from a DataFrame.\n",
      "Try using .loc[row_indexer,col_indexer] = value instead\n",
      "\n",
      "See the caveats in the documentation: https://pandas.pydata.org/pandas-docs/stable/user_guide/indexing.html#returning-a-view-versus-a-copy\n",
      "  data['text'] = data['text'].apply(lambda x: remove_html(x))\n",
      "<ipython-input-9-650a1bb61e39>:4: SettingWithCopyWarning: \n",
      "A value is trying to be set on a copy of a slice from a DataFrame.\n",
      "Try using .loc[row_indexer,col_indexer] = value instead\n",
      "\n",
      "See the caveats in the documentation: https://pandas.pydata.org/pandas-docs/stable/user_guide/indexing.html#returning-a-view-versus-a-copy\n",
      "  data['text'] = data['text'].apply(lambda x: remove_punct(x))\n"
     ]
    }
   ],
   "source": [
    "for data in all_data:\n",
    "  data['text'] = data['text'].apply(lambda x: remove_URL(x))\n",
    "  data['text'] = data['text'].apply(lambda x: remove_html(x))\n",
    "  data['text'] = data['text'].apply(lambda x: remove_punct(x))"
   ]
  },
  {
   "cell_type": "code",
   "execution_count": 10,
   "id": "3c9e8f35",
   "metadata": {},
   "outputs": [],
   "source": [
    "def clean_text(text):\n",
    "    text = text.lower()\n",
    "    text = re.sub(r\"i'm\", \"i am\", text)\n",
    "    text = re.sub(r\"you'll\", \"you will\", text)\n",
    "    text = re.sub(r\"i'll\", \"i will\", text)\n",
    "    text = re.sub(r\"she'll\", \"she will\", text)\n",
    "    text = re.sub(r\"he'll\", \"he will\", text)\n",
    "    text = re.sub(r\"he's\", \"he is\", text)\n",
    "    text = re.sub(r\"she's\", \"she is\", text)\n",
    "    text = re.sub(r\"that's\", \"that is\", text)\n",
    "    text = re.sub(r\"what's\", \"what is\", text)\n",
    "    text = re.sub(r\"where's\", \"where is\", text)\n",
    "    text = re.sub(r\"there's\", \"there is\", text)\n",
    "    text = re.sub(r\"here's\", \"here is\", text)\n",
    "    text = re.sub(r\"who's\", \"who is\", text)\n",
    "    text = re.sub(r\"how's\", \"how is\", text)\n",
    "    text = re.sub(r\"\\'ll\", \" will\", text)\n",
    "    text = re.sub(r\"\\'ve\", \" have\", text)\n",
    "    text = re.sub(r\"\\'re\", \" are\", text)\n",
    "    text = re.sub(r\"\\'d\", \" would\", text)\n",
    "    text = re.sub(r\"can't\", \"cannot\", text)\n",
    "    text = re.sub(r\"won't\", \"will not\", text)\n",
    "    text = re.sub(r\"don't\", \"do not\", text)\n",
    "    text = re.sub(r\"shouldn't\", \"should not\", text)\n",
    "    text = re.sub(r\"n't\", \" not\", text)\n",
    "    text = re.sub(r\"   \", \" \", text) # Remove any extra spaces\n",
    "    return text"
   ]
  },
  {
   "cell_type": "code",
   "execution_count": 11,
   "id": "a27c4dd6",
   "metadata": {},
   "outputs": [
    {
     "name": "stderr",
     "output_type": "stream",
     "text": [
      "<ipython-input-11-fcb0c48fb32b>:1: SettingWithCopyWarning: \n",
      "A value is trying to be set on a copy of a slice from a DataFrame.\n",
      "Try using .loc[row_indexer,col_indexer] = value instead\n",
      "\n",
      "See the caveats in the documentation: https://pandas.pydata.org/pandas-docs/stable/user_guide/indexing.html#returning-a-view-versus-a-copy\n",
      "  train['clean_text'] = train['text'].apply(clean_text)\n",
      "<ipython-input-11-fcb0c48fb32b>:2: SettingWithCopyWarning: \n",
      "A value is trying to be set on a copy of a slice from a DataFrame.\n",
      "Try using .loc[row_indexer,col_indexer] = value instead\n",
      "\n",
      "See the caveats in the documentation: https://pandas.pydata.org/pandas-docs/stable/user_guide/indexing.html#returning-a-view-versus-a-copy\n",
      "  test['clean_text'] = test['text'].apply(clean_text)\n"
     ]
    }
   ],
   "source": [
    "train['clean_text'] = train['text'].apply(clean_text)\n",
    "test['clean_text'] = test['text'].apply(clean_text)"
   ]
  },
  {
   "cell_type": "code",
   "execution_count": 12,
   "id": "f6d40d2b",
   "metadata": {},
   "outputs": [
    {
     "data": {
      "text/html": [
       "<div>\n",
       "<style scoped>\n",
       "    .dataframe tbody tr th:only-of-type {\n",
       "        vertical-align: middle;\n",
       "    }\n",
       "\n",
       "    .dataframe tbody tr th {\n",
       "        vertical-align: top;\n",
       "    }\n",
       "\n",
       "    .dataframe thead th {\n",
       "        text-align: right;\n",
       "    }\n",
       "</style>\n",
       "<table border=\"1\" class=\"dataframe\">\n",
       "  <thead>\n",
       "    <tr style=\"text-align: right;\">\n",
       "      <th></th>\n",
       "      <th>keyword</th>\n",
       "      <th>text</th>\n",
       "      <th>target</th>\n",
       "      <th>clean_text</th>\n",
       "    </tr>\n",
       "  </thead>\n",
       "  <tbody>\n",
       "    <tr>\n",
       "      <th>7233</th>\n",
       "      <td>weapons</td>\n",
       "      <td>DorisMatsui thank you for supporting the Presi...</td>\n",
       "      <td>0</td>\n",
       "      <td>dorismatsui thank you for supporting the presi...</td>\n",
       "    </tr>\n",
       "    <tr>\n",
       "      <th>4685</th>\n",
       "      <td>landslide</td>\n",
       "      <td>Inbounds Out of Bounds\\n\\nWhile many picked th...</td>\n",
       "      <td>1</td>\n",
       "      <td>inbounds out of bounds\\n\\nwhile many picked th...</td>\n",
       "    </tr>\n",
       "    <tr>\n",
       "      <th>1722</th>\n",
       "      <td>collided</td>\n",
       "      <td>She looked back  her daughter  said everyone l...</td>\n",
       "      <td>0</td>\n",
       "      <td>she looked back  her daughter  said everyone l...</td>\n",
       "    </tr>\n",
       "    <tr>\n",
       "      <th>3433</th>\n",
       "      <td>explode</td>\n",
       "      <td>DelDryden If I press on the twitch will my hea...</td>\n",
       "      <td>0</td>\n",
       "      <td>deldryden if i press on the twitch will my hea...</td>\n",
       "    </tr>\n",
       "    <tr>\n",
       "      <th>1595</th>\n",
       "      <td>cliff%20fall</td>\n",
       "      <td>NowPlaying  Cliff Richard  I Could Easily Fall...</td>\n",
       "      <td>0</td>\n",
       "      <td>nowplaying  cliff richard  i could easily fall...</td>\n",
       "    </tr>\n",
       "  </tbody>\n",
       "</table>\n",
       "</div>"
      ],
      "text/plain": [
       "           keyword                                               text  target  \\\n",
       "7233       weapons  DorisMatsui thank you for supporting the Presi...       0   \n",
       "4685     landslide  Inbounds Out of Bounds\\n\\nWhile many picked th...       1   \n",
       "1722      collided  She looked back  her daughter  said everyone l...       0   \n",
       "3433       explode  DelDryden If I press on the twitch will my hea...       0   \n",
       "1595  cliff%20fall  NowPlaying  Cliff Richard  I Could Easily Fall...       0   \n",
       "\n",
       "                                             clean_text  \n",
       "7233  dorismatsui thank you for supporting the presi...  \n",
       "4685  inbounds out of bounds\\n\\nwhile many picked th...  \n",
       "1722  she looked back  her daughter  said everyone l...  \n",
       "3433  deldryden if i press on the twitch will my hea...  \n",
       "1595  nowplaying  cliff richard  i could easily fall...  "
      ]
     },
     "execution_count": 12,
     "metadata": {},
     "output_type": "execute_result"
    }
   ],
   "source": [
    "train.head()"
   ]
  },
  {
   "cell_type": "markdown",
   "id": "071d0957",
   "metadata": {},
   "source": [
    "#### (3) remove any characters other then alphabets\n",
    "#### (4) convert all dicitonary to lower case(for consistency)\n",
    "#### (5) lemmatize"
   ]
  },
  {
   "cell_type": "code",
   "execution_count": 13,
   "id": "ec8dc341",
   "metadata": {},
   "outputs": [
    {
     "name": "stderr",
     "output_type": "stream",
     "text": [
      "<ipython-input-13-63aca0e435f3>:16: SettingWithCopyWarning: \n",
      "A value is trying to be set on a copy of a slice from a DataFrame.\n",
      "Try using .loc[row_indexer,col_indexer] = value instead\n",
      "\n",
      "See the caveats in the documentation: https://pandas.pydata.org/pandas-docs/stable/user_guide/indexing.html#returning-a-view-versus-a-copy\n",
      "  train['clean_text'] = train['text'].apply(massage_text)\n",
      "<ipython-input-13-63aca0e435f3>:17: SettingWithCopyWarning: \n",
      "A value is trying to be set on a copy of a slice from a DataFrame.\n",
      "Try using .loc[row_indexer,col_indexer] = value instead\n",
      "\n",
      "See the caveats in the documentation: https://pandas.pydata.org/pandas-docs/stable/user_guide/indexing.html#returning-a-view-versus-a-copy\n",
      "  test['clean_text'] = test['text'].apply(massage_text)\n"
     ]
    }
   ],
   "source": [
    "def massage_text(text):\n",
    "    ## remove anything other then characters and put everything in lowercase\n",
    "    tweet = re.sub(\"[^a-zA-Z]\", ' ', text) # (3)\n",
    "    tweet = tweet.lower() # (4) \n",
    "    tweet = tweet.split()\n",
    "\n",
    "    lem = WordNetLemmatizer() # (5)\n",
    "    tweet = [lem.lemmatize(word) for word in tweet\n",
    "             if word not in set(stopwords.words('english'))]\n",
    "    tweet = ' '.join(tweet)\n",
    "    return tweet\n",
    "    print('--here goes nothing')\n",
    "    print(text)\n",
    "    print(tweet)\n",
    "\n",
    "train['clean_text'] = train['text'].apply(massage_text)\n",
    "test['clean_text'] = test['text'].apply(massage_text)"
   ]
  },
  {
   "cell_type": "code",
   "execution_count": 14,
   "id": "b64f80e2",
   "metadata": {},
   "outputs": [
    {
     "data": {
      "text/html": [
       "<div>\n",
       "<style scoped>\n",
       "    .dataframe tbody tr th:only-of-type {\n",
       "        vertical-align: middle;\n",
       "    }\n",
       "\n",
       "    .dataframe tbody tr th {\n",
       "        vertical-align: top;\n",
       "    }\n",
       "\n",
       "    .dataframe thead th {\n",
       "        text-align: right;\n",
       "    }\n",
       "</style>\n",
       "<table border=\"1\" class=\"dataframe\">\n",
       "  <thead>\n",
       "    <tr style=\"text-align: right;\">\n",
       "      <th></th>\n",
       "      <th>text</th>\n",
       "      <th>clean_text</th>\n",
       "    </tr>\n",
       "  </thead>\n",
       "  <tbody>\n",
       "    <tr>\n",
       "      <th>7233</th>\n",
       "      <td>DorisMatsui thank you for supporting the Presi...</td>\n",
       "      <td>dorismatsui thank supporting president irandea...</td>\n",
       "    </tr>\n",
       "    <tr>\n",
       "      <th>4685</th>\n",
       "      <td>Inbounds Out of Bounds\\n\\nWhile many picked th...</td>\n",
       "      <td>inbounds bound many picked nats win nl east la...</td>\n",
       "    </tr>\n",
       "    <tr>\n",
       "      <th>1722</th>\n",
       "      <td>She looked back  her daughter  said everyone l...</td>\n",
       "      <td>looked back daughter said everyone loved pictu...</td>\n",
       "    </tr>\n",
       "    <tr>\n",
       "      <th>3433</th>\n",
       "      <td>DelDryden If I press on the twitch will my hea...</td>\n",
       "      <td>deldryden press twitch head explode</td>\n",
       "    </tr>\n",
       "    <tr>\n",
       "      <th>1595</th>\n",
       "      <td>NowPlaying  Cliff Richard  I Could Easily Fall...</td>\n",
       "      <td>nowplaying cliff richard could easily fall lov...</td>\n",
       "    </tr>\n",
       "    <tr>\n",
       "      <th>3010</th>\n",
       "      <td>Let it be gone away like a dust in the wind  B...</td>\n",
       "      <td>let gone away like dust wind big wind like tor...</td>\n",
       "    </tr>\n",
       "    <tr>\n",
       "      <th>1001</th>\n",
       "      <td>Im not a Drake fan but I enjoy seeing him body...</td>\n",
       "      <td>im drake fan enjoy seeing bodybagging people g...</td>\n",
       "    </tr>\n",
       "    <tr>\n",
       "      <th>6100</th>\n",
       "      <td>AP \\n Too slow report the sinking boat in the ...</td>\n",
       "      <td>ap slow report sinking boat mediterranean sea ...</td>\n",
       "    </tr>\n",
       "    <tr>\n",
       "      <th>5244</th>\n",
       "      <td>Refugio oil spill may have been costlier bigge...</td>\n",
       "      <td>refugio oil spill may costlier bigger projecte...</td>\n",
       "    </tr>\n",
       "    <tr>\n",
       "      <th>3719</th>\n",
       "      <td>When the world say finish God says dont fear  ...</td>\n",
       "      <td>world say finish god say dont fear choosegod r...</td>\n",
       "    </tr>\n",
       "  </tbody>\n",
       "</table>\n",
       "</div>"
      ],
      "text/plain": [
       "                                                   text  \\\n",
       "7233  DorisMatsui thank you for supporting the Presi...   \n",
       "4685  Inbounds Out of Bounds\\n\\nWhile many picked th...   \n",
       "1722  She looked back  her daughter  said everyone l...   \n",
       "3433  DelDryden If I press on the twitch will my hea...   \n",
       "1595  NowPlaying  Cliff Richard  I Could Easily Fall...   \n",
       "3010  Let it be gone away like a dust in the wind  B...   \n",
       "1001  Im not a Drake fan but I enjoy seeing him body...   \n",
       "6100  AP \\n Too slow report the sinking boat in the ...   \n",
       "5244  Refugio oil spill may have been costlier bigge...   \n",
       "3719  When the world say finish God says dont fear  ...   \n",
       "\n",
       "                                             clean_text  \n",
       "7233  dorismatsui thank supporting president irandea...  \n",
       "4685  inbounds bound many picked nats win nl east la...  \n",
       "1722  looked back daughter said everyone loved pictu...  \n",
       "3433                deldryden press twitch head explode  \n",
       "1595  nowplaying cliff richard could easily fall lov...  \n",
       "3010  let gone away like dust wind big wind like tor...  \n",
       "1001  im drake fan enjoy seeing bodybagging people g...  \n",
       "6100  ap slow report sinking boat mediterranean sea ...  \n",
       "5244  refugio oil spill may costlier bigger projecte...  \n",
       "3719  world say finish god say dont fear choosegod r...  "
      ]
     },
     "execution_count": 14,
     "metadata": {},
     "output_type": "execute_result"
    }
   ],
   "source": [
    "train.iloc[0:10][['text','clean_text']]"
   ]
  },
  {
   "cell_type": "markdown",
   "id": "8e102222",
   "metadata": {},
   "source": [
    "## 2-1. Word Tokenization and word2vec\n",
    "- tokenize the clean text column"
   ]
  },
  {
   "cell_type": "code",
   "execution_count": 15,
   "id": "ab9734c7",
   "metadata": {},
   "outputs": [
    {
     "name": "stderr",
     "output_type": "stream",
     "text": [
      "<ipython-input-15-96b940e3b626>:1: SettingWithCopyWarning: \n",
      "A value is trying to be set on a copy of a slice from a DataFrame.\n",
      "Try using .loc[row_indexer,col_indexer] = value instead\n",
      "\n",
      "See the caveats in the documentation: https://pandas.pydata.org/pandas-docs/stable/user_guide/indexing.html#returning-a-view-versus-a-copy\n",
      "  train['tokens'] = train['clean_text'].apply(lambda x: word_tokenize(x))\n",
      "<ipython-input-15-96b940e3b626>:2: SettingWithCopyWarning: \n",
      "A value is trying to be set on a copy of a slice from a DataFrame.\n",
      "Try using .loc[row_indexer,col_indexer] = value instead\n",
      "\n",
      "See the caveats in the documentation: https://pandas.pydata.org/pandas-docs/stable/user_guide/indexing.html#returning-a-view-versus-a-copy\n",
      "  test['tokens'] = test['clean_text'].apply(lambda x: word_tokenize(x))\n"
     ]
    }
   ],
   "source": [
    "train['tokens'] = train['clean_text'].apply(lambda x: word_tokenize(x))\n",
    "test['tokens'] = test['clean_text'].apply(lambda x: word_tokenize(x))"
   ]
  },
  {
   "cell_type": "code",
   "execution_count": 16,
   "id": "8b48af0f",
   "metadata": {},
   "outputs": [
    {
     "data": {
      "text/html": [
       "<div>\n",
       "<style scoped>\n",
       "    .dataframe tbody tr th:only-of-type {\n",
       "        vertical-align: middle;\n",
       "    }\n",
       "\n",
       "    .dataframe tbody tr th {\n",
       "        vertical-align: top;\n",
       "    }\n",
       "\n",
       "    .dataframe thead th {\n",
       "        text-align: right;\n",
       "    }\n",
       "</style>\n",
       "<table border=\"1\" class=\"dataframe\">\n",
       "  <thead>\n",
       "    <tr style=\"text-align: right;\">\n",
       "      <th></th>\n",
       "      <th>keyword</th>\n",
       "      <th>text</th>\n",
       "      <th>target</th>\n",
       "      <th>clean_text</th>\n",
       "      <th>tokens</th>\n",
       "    </tr>\n",
       "  </thead>\n",
       "  <tbody>\n",
       "    <tr>\n",
       "      <th>7233</th>\n",
       "      <td>weapons</td>\n",
       "      <td>DorisMatsui thank you for supporting the Presi...</td>\n",
       "      <td>0</td>\n",
       "      <td>dorismatsui thank supporting president irandea...</td>\n",
       "      <td>[dorismatsui, thank, supporting, president, ir...</td>\n",
       "    </tr>\n",
       "    <tr>\n",
       "      <th>4685</th>\n",
       "      <td>landslide</td>\n",
       "      <td>Inbounds Out of Bounds\\n\\nWhile many picked th...</td>\n",
       "      <td>1</td>\n",
       "      <td>inbounds bound many picked nats win nl east la...</td>\n",
       "      <td>[inbounds, bound, many, picked, nats, win, nl,...</td>\n",
       "    </tr>\n",
       "    <tr>\n",
       "      <th>1722</th>\n",
       "      <td>collided</td>\n",
       "      <td>She looked back  her daughter  said everyone l...</td>\n",
       "      <td>0</td>\n",
       "      <td>looked back daughter said everyone loved pictu...</td>\n",
       "      <td>[looked, back, daughter, said, everyone, loved...</td>\n",
       "    </tr>\n",
       "    <tr>\n",
       "      <th>3433</th>\n",
       "      <td>explode</td>\n",
       "      <td>DelDryden If I press on the twitch will my hea...</td>\n",
       "      <td>0</td>\n",
       "      <td>deldryden press twitch head explode</td>\n",
       "      <td>[deldryden, press, twitch, head, explode]</td>\n",
       "    </tr>\n",
       "    <tr>\n",
       "      <th>1595</th>\n",
       "      <td>cliff%20fall</td>\n",
       "      <td>NowPlaying  Cliff Richard  I Could Easily Fall...</td>\n",
       "      <td>0</td>\n",
       "      <td>nowplaying cliff richard could easily fall lov...</td>\n",
       "      <td>[nowplaying, cliff, richard, could, easily, fa...</td>\n",
       "    </tr>\n",
       "  </tbody>\n",
       "</table>\n",
       "</div>"
      ],
      "text/plain": [
       "           keyword                                               text  target  \\\n",
       "7233       weapons  DorisMatsui thank you for supporting the Presi...       0   \n",
       "4685     landslide  Inbounds Out of Bounds\\n\\nWhile many picked th...       1   \n",
       "1722      collided  She looked back  her daughter  said everyone l...       0   \n",
       "3433       explode  DelDryden If I press on the twitch will my hea...       0   \n",
       "1595  cliff%20fall  NowPlaying  Cliff Richard  I Could Easily Fall...       0   \n",
       "\n",
       "                                             clean_text  \\\n",
       "7233  dorismatsui thank supporting president irandea...   \n",
       "4685  inbounds bound many picked nats win nl east la...   \n",
       "1722  looked back daughter said everyone loved pictu...   \n",
       "3433                deldryden press twitch head explode   \n",
       "1595  nowplaying cliff richard could easily fall lov...   \n",
       "\n",
       "                                                 tokens  \n",
       "7233  [dorismatsui, thank, supporting, president, ir...  \n",
       "4685  [inbounds, bound, many, picked, nats, win, nl,...  \n",
       "1722  [looked, back, daughter, said, everyone, loved...  \n",
       "3433          [deldryden, press, twitch, head, explode]  \n",
       "1595  [nowplaying, cliff, richard, could, easily, fa...  "
      ]
     },
     "execution_count": 16,
     "metadata": {},
     "output_type": "execute_result"
    }
   ],
   "source": [
    "train.head()"
   ]
  },
  {
   "cell_type": "markdown",
   "id": "b2a57687",
   "metadata": {},
   "source": [
    "#### convert our data(words) into vectors"
   ]
  },
  {
   "cell_type": "code",
   "execution_count": 17,
   "id": "2fd5f733",
   "metadata": {},
   "outputs": [],
   "source": [
    "#first, create a list corpus which we would be using to train word2vec mappings\n",
    "def fn_pre_process_data(doc):\n",
    "    for rec in doc:\n",
    "        yield gensim.utils.simple_preprocess(rec)\n",
    "\n",
    "corpus = list(fn_pre_process_data(train['clean_text']))\n",
    "corpus += list(fn_pre_process_data(test['clean_text']))"
   ]
  },
  {
   "cell_type": "code",
   "execution_count": 18,
   "id": "542afaa1",
   "metadata": {},
   "outputs": [
    {
     "name": "stdout",
     "output_type": "stream",
     "text": [
      "initiated ...\n"
     ]
    },
    {
     "data": {
      "text/plain": [
       "(635899, 746280)"
      ]
     },
     "execution_count": 18,
     "metadata": {},
     "output_type": "execute_result"
    }
   ],
   "source": [
    "#inititate the embedding model, we will come back to the passed arguments later\n",
    "print('initiated ...')\n",
    "wv_model = Word2Vec(corpus,vector_size=150,window=3,min_count=2)\n",
    "#wv_model.build_vocab(corpus)\n",
    "wv_model.train(corpus,total_examples=len(corpus),epochs=10)\n",
    "#wv_model.save(data_path + 'word2vec.model')"
   ]
  },
  {
   "cell_type": "code",
   "execution_count": 19,
   "id": "ba905f04",
   "metadata": {},
   "outputs": [],
   "source": [
    "# convert the train and text tokens\n",
    "def get_word_embeddings(token_list,vector,k=150):\n",
    "    if len(token_list) < 1:\n",
    "        return np.zeros(k)\n",
    "    else:\n",
    "\n",
    "        vectorized = [vector.wv[word] if word in vector.wv else np.random.rand(k) for word in token_list] \n",
    "    \n",
    "    sum = np.sum(vectorized,axis=0)\n",
    "    ## return the average\n",
    "    return sum/len(vectorized)       \n",
    "\n",
    "def get_embeddings(tokens,vector):\n",
    "        embeddings = tokens.apply(lambda x: get_word_embeddings(x, wv_model))\n",
    "        return list(embeddings)"
   ]
  },
  {
   "cell_type": "code",
   "execution_count": 20,
   "id": "dcd40bda",
   "metadata": {},
   "outputs": [],
   "source": [
    "train_embeddings = get_embeddings(train['tokens'],wv_model)\n",
    "test_embeddings = get_embeddings(test['tokens'],wv_model)"
   ]
  },
  {
   "cell_type": "code",
   "execution_count": 21,
   "id": "6e2ff06e",
   "metadata": {},
   "outputs": [],
   "source": [
    "model_path = './model/'\n",
    "wv_model.save(model_path + 'word2vec_1.model')"
   ]
  },
  {
   "cell_type": "markdown",
   "id": "af1e1a70",
   "metadata": {},
   "source": [
    "## 2-2. Convert text to vectors using Counter vectorizer"
   ]
  },
  {
   "cell_type": "markdown",
   "id": "8c7ef025",
   "metadata": {},
   "source": [
    "### What is the Count Vectorizer?\n",
    "- convert a collection of text documents to a matrix of token counts\n",
    "\n",
    "### How to Use\n",
    "```python\n",
    "# python example code\n",
    "corpus = [\"This is the first document\", \"This document is the second document\", \"And this is the thrid one\"]\n",
    "vectorize = CounterVectorize()\n",
    "X = vectorize.fit_transform(corpus)\n",
    "```\n",
    "- vectorizer.get_feature_names_out()\n",
    "> array(['and', 'document', 'first', 'is', 'one', 'second', 'the', 'third', 'this'], ...)\n",
    "- X.toarray()\n",
    "> [[0 1 1 1 0 0 1 0 1]  \n",
    " [0 2 0 1 0 1 1 0 1]  \n",
    " [1 0 0 1 1 0 1 1 1]]"
   ]
  },
  {
   "cell_type": "code",
   "execution_count": 22,
   "id": "ec24298d",
   "metadata": {},
   "outputs": [],
   "source": [
    "from sklearn.model_selection import train_test_split\n",
    "\n",
    "from sklearn.feature_extraction.text import CountVectorizer\n",
    "count_vectorizer = CountVectorizer(max_features=2000)\n",
    "\n",
    "X = count_vectorizer.fit_transform(train[\"clean_text\"]).toarray()\n",
    "test_tmp = count_vectorizer.transform(test[\"clean_text\"]).toarray()\n",
    "y = train['target']"
   ]
  },
  {
   "cell_type": "code",
   "execution_count": 23,
   "id": "7bb4629f",
   "metadata": {},
   "outputs": [],
   "source": [
    "X_train = X\n",
    "X_test = test_tmp\n",
    "y_train = train['target']\n",
    "y_test = test['target']"
   ]
  },
  {
   "cell_type": "markdown",
   "id": "83c32f3f",
   "metadata": {},
   "source": [
    "# 3. Model\n",
    "## Contents\n",
    "- train the model\n",
    "    - RidgeClassifierCV\n",
    "    - sgd classifier\n",
    "    - BernoulliNB \n",
    "    - RandomForest\n",
    "\n",
    "## Model Description\n",
    "--------------\n",
    "### Ensemble\n",
    "- Combine the predictions of several base estimators built with a given learning algorithm \n",
    "    - in order to improve generalizability / robustness over a single estimator.\n",
    "- Boosting of Ensemble types\n",
    "\n",
    "### Performance - f1-score\n"
   ]
  },
  {
   "cell_type": "markdown",
   "id": "e0c7b75a",
   "metadata": {},
   "source": [
    "## 3-2. Train the model"
   ]
  },
  {
   "cell_type": "code",
   "execution_count": 24,
   "id": "375c53b8",
   "metadata": {},
   "outputs": [],
   "source": [
    "MLA = [\n",
    "    #Ensemble Methods\n",
    "    ensemble.RandomForestClassifier(),\n",
    "    \n",
    "    #GLM\n",
    "    linear_model.RidgeClassifierCV(),\n",
    "    linear_model.SGDClassifier(),\n",
    "    \n",
    "    #Navies Bayes\n",
    "    naive_bayes.BernoulliNB()\n",
    "    ]"
   ]
  },
  {
   "cell_type": "markdown",
   "id": "cd1b2322",
   "metadata": {},
   "source": [
    "# Comapring all MLA\n",
    "## word2vec\n",
    "- precision\n",
    "- recall\n",
    "- accuracy\n",
    "- f1-score"
   ]
  },
  {
   "cell_type": "code",
   "execution_count": 25,
   "id": "0fea1f48",
   "metadata": {},
   "outputs": [],
   "source": [
    "train_embeddings = np.array(train_embeddings)\n",
    "test_embeddings = np.array(test_embeddings)"
   ]
  },
  {
   "cell_type": "code",
   "execution_count": 26,
   "id": "fc91899c",
   "metadata": {},
   "outputs": [],
   "source": [
    "# Comparing all machine learning algorithms\n",
    "from sklearn.metrics import mean_squared_error,confusion_matrix, precision_score, recall_score, auc,roc_curve\n",
    "\n",
    "row_index = 0\n",
    "MLA_columns = []\n",
    "MLA_compare = pd.DataFrame(columns = MLA_columns)\n",
    "\n",
    "for alg in MLA:\n",
    "    predicted = alg.fit(train_embeddings, y_train).predict(test_embeddings)\n",
    "    fp, tp, th = roc_curve(y_test, predicted)\n",
    "\n",
    "    MLA_name = alg.__class__.__name__\n",
    "    MLA_compare.loc[row_index,'MLA used'] = MLA_name\n",
    "    MLA_compare.loc[row_index, 'Train Accuracy'] = round(alg.score(train_embeddings,y_train), 4)\n",
    "    MLA_compare.loc[row_index, 'Test Accuracy'] = round(alg.score(test_embeddings, y_test), 4)\n",
    "    \n",
    "    \n",
    "    recall = recall_score(test['target'], predicted)\n",
    "    precision = precision_score(test['target'], predicted)\n",
    "    MLA_compare.loc[row_index, 'Precission'] = precision\n",
    "    MLA_compare.loc[row_index, 'Recall'] = recall\n",
    "    MLA_compare.loc[row_index, 'F1-score'] = round((2*precision*recall)/(precision+recall),4)\n",
    "    MLA_compare.loc[row_index, 'AUC'] = auc(fp, tp)\n",
    "\n",
    "    row_index+=1"
   ]
  },
  {
   "cell_type": "code",
   "execution_count": 27,
   "id": "593d7ace",
   "metadata": {},
   "outputs": [
    {
     "data": {
      "text/html": [
       "<div>\n",
       "<style scoped>\n",
       "    .dataframe tbody tr th:only-of-type {\n",
       "        vertical-align: middle;\n",
       "    }\n",
       "\n",
       "    .dataframe tbody tr th {\n",
       "        vertical-align: top;\n",
       "    }\n",
       "\n",
       "    .dataframe thead th {\n",
       "        text-align: right;\n",
       "    }\n",
       "</style>\n",
       "<table border=\"1\" class=\"dataframe\">\n",
       "  <thead>\n",
       "    <tr style=\"text-align: right;\">\n",
       "      <th></th>\n",
       "      <th>MLA used</th>\n",
       "      <th>Train Accuracy</th>\n",
       "      <th>Test Accuracy</th>\n",
       "      <th>Precission</th>\n",
       "      <th>Recall</th>\n",
       "      <th>F1-score</th>\n",
       "      <th>AUC</th>\n",
       "    </tr>\n",
       "  </thead>\n",
       "  <tbody>\n",
       "    <tr>\n",
       "      <th>0</th>\n",
       "      <td>RandomForestClassifier</td>\n",
       "      <td>0.9906</td>\n",
       "      <td>0.7386</td>\n",
       "      <td>0.797701</td>\n",
       "      <td>0.511799</td>\n",
       "      <td>0.6235</td>\n",
       "      <td>0.708332</td>\n",
       "    </tr>\n",
       "    <tr>\n",
       "      <th>2</th>\n",
       "      <td>SGDClassifier</td>\n",
       "      <td>0.7495</td>\n",
       "      <td>0.7037</td>\n",
       "      <td>0.703407</td>\n",
       "      <td>0.517699</td>\n",
       "      <td>0.5964</td>\n",
       "      <td>0.678850</td>\n",
       "    </tr>\n",
       "    <tr>\n",
       "      <th>3</th>\n",
       "      <td>BernoulliNB</td>\n",
       "      <td>0.6031</td>\n",
       "      <td>0.6057</td>\n",
       "      <td>0.529040</td>\n",
       "      <td>0.617994</td>\n",
       "      <td>0.5701</td>\n",
       "      <td>0.607375</td>\n",
       "    </tr>\n",
       "    <tr>\n",
       "      <th>1</th>\n",
       "      <td>RidgeClassifierCV</td>\n",
       "      <td>0.7417</td>\n",
       "      <td>0.7124</td>\n",
       "      <td>0.798898</td>\n",
       "      <td>0.427729</td>\n",
       "      <td>0.5572</td>\n",
       "      <td>0.674405</td>\n",
       "    </tr>\n",
       "  </tbody>\n",
       "</table>\n",
       "</div>"
      ],
      "text/plain": [
       "                 MLA used  Train Accuracy  Test Accuracy  Precission  \\\n",
       "0  RandomForestClassifier          0.9906         0.7386    0.797701   \n",
       "2           SGDClassifier          0.7495         0.7037    0.703407   \n",
       "3             BernoulliNB          0.6031         0.6057    0.529040   \n",
       "1       RidgeClassifierCV          0.7417         0.7124    0.798898   \n",
       "\n",
       "     Recall  F1-score       AUC  \n",
       "0  0.511799    0.6235  0.708332  \n",
       "2  0.517699    0.5964  0.678850  \n",
       "3  0.617994    0.5701  0.607375  \n",
       "1  0.427729    0.5572  0.674405  "
      ]
     },
     "execution_count": 27,
     "metadata": {},
     "output_type": "execute_result"
    }
   ],
   "source": [
    "# f1-score 기준 정렬\n",
    "MLA_compare.sort_values(by = ['F1-score'], ascending = False, inplace = True)    \n",
    "MLA_compare"
   ]
  },
  {
   "cell_type": "markdown",
   "id": "b9aa7902",
   "metadata": {},
   "source": [
    "# Comapring all MLA\n",
    "## wordCount\n",
    "- precision\n",
    "- recall\n",
    "- accuracy\n",
    "- f1-score"
   ]
  },
  {
   "cell_type": "code",
   "execution_count": 28,
   "id": "81de4931",
   "metadata": {},
   "outputs": [],
   "source": [
    "# Comparing all machine learning algorithms\n",
    "from sklearn.metrics import mean_squared_error,confusion_matrix, precision_score, recall_score, auc,roc_curve\n",
    "\n",
    "row_index = 0\n",
    "MLA_columns = []\n",
    "MLA_compare = pd.DataFrame(columns = MLA_columns)\n",
    "\n",
    "for alg in MLA:\n",
    "    predicted = alg.fit(X_train, y_train).predict(X_test)\n",
    "    fp, tp, th = roc_curve(y_test, predicted)\n",
    "\n",
    "    MLA_name = alg.__class__.__name__\n",
    "    MLA_compare.loc[row_index,'MLA used'] = MLA_name\n",
    "    MLA_compare.loc[row_index, 'Train Accuracy'] = round(alg.score(X_train, y_train), 4)\n",
    "    MLA_compare.loc[row_index, 'Test Accuracy'] = round(alg.score(X_test, y_test), 4)\n",
    "    \n",
    "    \n",
    "    recall = recall_score(y_test, predicted)\n",
    "    precision = precision_score(y_test, predicted)\n",
    "    MLA_compare.loc[row_index, 'Precission'] = precision\n",
    "    MLA_compare.loc[row_index, 'Recall'] = recall\n",
    "    MLA_compare.loc[row_index, 'F1-score'] = round((2*precision*recall)/(precision+recall),4)\n",
    "    MLA_compare.loc[row_index, 'AUC'] = auc(fp, tp)\n",
    "\n",
    "    row_index+=1"
   ]
  },
  {
   "cell_type": "code",
   "execution_count": 29,
   "id": "abea8126",
   "metadata": {},
   "outputs": [
    {
     "data": {
      "text/html": [
       "<div>\n",
       "<style scoped>\n",
       "    .dataframe tbody tr th:only-of-type {\n",
       "        vertical-align: middle;\n",
       "    }\n",
       "\n",
       "    .dataframe tbody tr th {\n",
       "        vertical-align: top;\n",
       "    }\n",
       "\n",
       "    .dataframe thead th {\n",
       "        text-align: right;\n",
       "    }\n",
       "</style>\n",
       "<table border=\"1\" class=\"dataframe\">\n",
       "  <thead>\n",
       "    <tr style=\"text-align: right;\">\n",
       "      <th></th>\n",
       "      <th>MLA used</th>\n",
       "      <th>Train Accuracy</th>\n",
       "      <th>Test Accuracy</th>\n",
       "      <th>Precission</th>\n",
       "      <th>Recall</th>\n",
       "      <th>F1-score</th>\n",
       "      <th>AUC</th>\n",
       "    </tr>\n",
       "  </thead>\n",
       "  <tbody>\n",
       "    <tr>\n",
       "      <th>1</th>\n",
       "      <td>RidgeClassifierCV</td>\n",
       "      <td>0.8786</td>\n",
       "      <td>0.8029</td>\n",
       "      <td>0.832721</td>\n",
       "      <td>0.668142</td>\n",
       "      <td>0.7414</td>\n",
       "      <td>0.784882</td>\n",
       "    </tr>\n",
       "    <tr>\n",
       "      <th>3</th>\n",
       "      <td>BernoulliNB</td>\n",
       "      <td>0.8526</td>\n",
       "      <td>0.7998</td>\n",
       "      <td>0.821622</td>\n",
       "      <td>0.672566</td>\n",
       "      <td>0.7397</td>\n",
       "      <td>0.782770</td>\n",
       "    </tr>\n",
       "    <tr>\n",
       "      <th>0</th>\n",
       "      <td>RandomForestClassifier</td>\n",
       "      <td>0.9824</td>\n",
       "      <td>0.7817</td>\n",
       "      <td>0.761146</td>\n",
       "      <td>0.705015</td>\n",
       "      <td>0.7320</td>\n",
       "      <td>0.771426</td>\n",
       "    </tr>\n",
       "    <tr>\n",
       "      <th>2</th>\n",
       "      <td>SGDClassifier</td>\n",
       "      <td>0.9207</td>\n",
       "      <td>0.7785</td>\n",
       "      <td>0.765189</td>\n",
       "      <td>0.687316</td>\n",
       "      <td>0.7242</td>\n",
       "      <td>0.766361</td>\n",
       "    </tr>\n",
       "  </tbody>\n",
       "</table>\n",
       "</div>"
      ],
      "text/plain": [
       "                 MLA used  Train Accuracy  Test Accuracy  Precission  \\\n",
       "1       RidgeClassifierCV          0.8786         0.8029    0.832721   \n",
       "3             BernoulliNB          0.8526         0.7998    0.821622   \n",
       "0  RandomForestClassifier          0.9824         0.7817    0.761146   \n",
       "2           SGDClassifier          0.9207         0.7785    0.765189   \n",
       "\n",
       "     Recall  F1-score       AUC  \n",
       "1  0.668142    0.7414  0.784882  \n",
       "3  0.672566    0.7397  0.782770  \n",
       "0  0.705015    0.7320  0.771426  \n",
       "2  0.687316    0.7242  0.766361  "
      ]
     },
     "execution_count": 29,
     "metadata": {},
     "output_type": "execute_result"
    }
   ],
   "source": [
    "# f1-score 기준 정렬\n",
    "MLA_compare.sort_values(by = ['F1-score'], ascending = False, inplace = True)    \n",
    "MLA_compare"
   ]
  }
 ],
 "metadata": {
  "kernelspec": {
   "display_name": "Python 3",
   "language": "python",
   "name": "python3"
  },
  "language_info": {
   "codemirror_mode": {
    "name": "ipython",
    "version": 3
   },
   "file_extension": ".py",
   "mimetype": "text/x-python",
   "name": "python",
   "nbconvert_exporter": "python",
   "pygments_lexer": "ipython3",
   "version": "3.8.8"
  }
 },
 "nbformat": 4,
 "nbformat_minor": 5
}
