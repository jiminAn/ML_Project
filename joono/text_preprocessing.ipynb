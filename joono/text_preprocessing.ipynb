{
 "cells": [
  {
   "cell_type": "code",
   "execution_count": 29,
   "id": "215748a6",
   "metadata": {},
   "outputs": [
    {
     "name": "stdout",
     "output_type": "stream",
     "text": [
      "root\n",
      " |-- created_at: long (nullable = true)\n",
      " |-- hashtags: array (nullable = true)\n",
      " |    |-- element: string (containsNull = true)\n",
      " |-- language: string (nullable = true)\n",
      " |-- tweet: string (nullable = true)\n",
      " |-- username: string (nullable = true)\n",
      "\n",
      "+---+--------------------+--------+--------------------+\n",
      "| id|             keyword|location|                text|\n",
      "+---+--------------------+--------+--------------------+\n",
      "|  0|dogecoin%20shib%2...|    null|\"fair economy, wo...|\n",
      "|  1|hungry%20starving...|    null|Gaming rn and I h...|\n",
      "|  2|conspiracytheorie...|    null|@Loserfruit Forgo...|\n",
      "|  3|lennyhenry%20redn...|    null|Remember when #Le...|\n",
      "|  4|europe%20africa%2...|    null| https://t.co/8Y1...|\n",
      "|  5|gold%20diamond%20...|    null|7.4 million has #...|\n",
      "|  6|underpaid%20starv...|    null|@serenawilliams s...|\n",
      "|  7|america%20africa%...|    null|Minivans at the F...|\n",
      "|  8|black%20blackpeop...|    null|@kimKBaltimore #b...|\n",
      "|  9|shortstory%20crea...|    null|I just published ...|\n",
      "| 10|colonial%20powers...|    null|#Colonial #Powers...|\n",
      "| 11|theresmoretolifet...|    null|@LBC #TheresMoreT...|\n",
      "| 12|cotton%20china%20...|    null|@LBC Hi Maajid. T...|\n",
      "| 13|institutional_cor...|    null|@foreignoffice #I...|\n",
      "| 14|new_apartheid%20p...|    null|@_afro_politan @m...|\n",
      "| 15|africa%20covid19%...|    null|#Africa 🌍: tough...|\n",
      "| 16|south%20africa%20...|    null|● 2-May-2020 -- #...|\n",
      "| 17|lions%20starving%...|    null|.@Cites so you R ...|\n",
      "| 18|stayhome%20corona...|    null|Not every job (or...|\n",
      "| 19|americans%20clean...|    null|Most #Americans h...|\n",
      "+---+--------------------+--------+--------------------+\n",
      "only showing top 20 rows\n",
      "\n"
     ]
    },
    {
     "name": "stderr",
     "output_type": "stream",
     "text": [
      "\r",
      "[Stage 1:>                                                          (0 + 1) / 1]\r",
      "\r",
      "                                                                                \r"
     ]
    }
   ],
   "source": [
    "import pyspark\n",
    "import json\n",
    "\n",
    "from pyspark.sql.functions import udf\n",
    "from pyspark.sql.types import StringType, IntegerType\n",
    "from pyspark.sql.functions import lit # to add null column\n",
    "from pyspark.sql.functions import monotonically_increasing_id\n",
    "\n",
    "# pyspark init ===========================================\n",
    "spark = pyspark.sql.SparkSession\\\n",
    "    .builder\\\n",
    "    .master('local')\\\n",
    "    .appName('ML-learning')\\\n",
    "    .config(conf=pyspark.SparkConf())\\\n",
    "    .getOrCreate()\n",
    "\n",
    "# read json file and print schema =======================\n",
    "disasterDf = spark.read.json(\"data/disaster.json\")\n",
    "disasterDf.printSchema()\n",
    "\n",
    "# drop language username created_at columns ============\n",
    "disasterDf = disasterDf.drop(\"language\").drop('username').drop(\"created_at\")\n",
    "\n",
    "# merge hashtags with \"%20\" and chname hashtags to keyword \n",
    "mergeHashtags = udf(lambda x: \"%20\".join(x), StringType())\n",
    "disasterDf = disasterDf.withColumn(\"keyword\", mergeHashtags(disasterDf[\"hashtags\"]))\n",
    "disasterDf = disasterDf.drop('hashtags')\n",
    "\n",
    "# chname tweet to text ================================\n",
    "disasterDf = disasterDf.withColumnRenamed(\"tweet\", \"text\")\n",
    "\n",
    "# add null column named location ======================\n",
    "disasterDf = disasterDf.withColumn(\"location\", lit(None).cast(StringType()))\n",
    "\n",
    "# add \"id\" column =====================================\n",
    "disasterDf = disasterDf.withColumn(\"id\", monotonically_increasing_id())\n",
    "\n",
    "# rearrange order of columns ==========================\n",
    "disasterDf = disasterDf.select(\"id\", \"keyword\", \"location\", \"text\")\n",
    "disasterDf.show()\n",
    "\n",
    "# save DataFrame as json file =========================\n",
    "# disasterDf.write.json('data/disaster-new.json')"
   ]
  },
  {
   "cell_type": "markdown",
   "id": "8cdc3e80",
   "metadata": {},
   "source": [
    "### HTML 제거"
   ]
  },
  {
   "cell_type": "code",
   "execution_count": 30,
   "id": "acd4eb41",
   "metadata": {},
   "outputs": [],
   "source": [
    "import re\n",
    "\n",
    "html_regexps = re.compile(r\"https?://[a-zA-Z0-9/.]*\\b\")\n",
    "removeHtml = udf(lambda x: html_regexps.sub(\"\", x), StringType())\n",
    "disasterDf = disasterDf.withColumn(\"text\", removeHtml(disasterDf['text']))\n"
   ]
  },
  {
   "cell_type": "markdown",
   "id": "a14e8566",
   "metadata": {},
   "source": [
    "### 이모티콘 제거"
   ]
  },
  {
   "cell_type": "code",
   "execution_count": 31,
   "id": "945d21d9",
   "metadata": {},
   "outputs": [],
   "source": [
    "emoji_pattern = re.compile(\"[\"\n",
    "        u\"\\U0001F600-\\U0001F64F\"  # emoticons\n",
    "        u\"\\U0001F300-\\U0001F5FF\"  # symbols & pictographs\n",
    "        u\"\\U0001F680-\\U0001F6FF\"  # transport & map symbols\n",
    "        u\"\\U0001F1E0-\\U0001F1FF\"  # flags (iOS)\n",
    "        u\"\\U00002500-\\U00002BEF\"  # chinese char\n",
    "        u\"\\U00002702-\\U000027B0\"\n",
    "        u\"\\U00002702-\\U000027B0\"\n",
    "        u\"\\U000024C2-\\U0001F251\"\n",
    "        u\"\\U0001f926-\\U0001f937\"\n",
    "        u\"\\U00010000-\\U0010ffff\"\n",
    "        u\"\\u2640-\\u2642\" \n",
    "        u\"\\u2600-\\u2B55\"\n",
    "        u\"\\u200d\"\n",
    "        u\"\\u23cf\"\n",
    "        u\"\\u23e9\"\n",
    "        u\"\\u231a\"\n",
    "        u\"\\ufe0f\"  # dingbats\n",
    "        u\"\\u3030\"\n",
    "                      \"]+\", re.UNICODE)\n",
    "\n",
    "remove_emoji = udf(lambda x: emoji_pattern.sub(\"\", x), StringType())\n",
    "disasterDf = disasterDf.withColumn(\"text\", remove_emoji(disasterDf[\"text\"]))"
   ]
  },
  {
   "cell_type": "markdown",
   "id": "e4efff09",
   "metadata": {},
   "source": [
    "### punctuations 제거"
   ]
  },
  {
   "cell_type": "code",
   "execution_count": 32,
   "id": "db748716",
   "metadata": {},
   "outputs": [
    {
     "data": {
      "text/plain": [
       "'asdfa ja9j2r okaoisjd fjaoIJ ROA2J'"
      ]
     },
     "execution_count": 32,
     "metadata": {},
     "output_type": "execute_result"
    }
   ],
   "source": [
    "import string\n",
    "\n",
    "myStr = 'asdfa ;ja;9j2r; ok;aoisjd f;j;aoIJ R;OA2J'\n",
    "table = str.maketrans('', '', string.punctuation)\n",
    "myStr.translate(table)"
   ]
  },
  {
   "cell_type": "code",
   "execution_count": 33,
   "id": "0695c5c3",
   "metadata": {},
   "outputs": [],
   "source": [
    "table = str.maketrans('', '', string.punctuation)\n",
    "remove_punctuation = udf(lambda x: x.translate(table), StringType())\n",
    "disasterDf = disasterDf.withColumn(\"text\", remove_punctuation(disasterDf[\"text\"]))"
   ]
  },
  {
   "cell_type": "code",
   "execution_count": 34,
   "id": "360ac0da",
   "metadata": {},
   "outputs": [
    {
     "data": {
      "text/plain": [
       "[Row(id=243, keyword='train%20fire%20boxing%20thesweatlife', location=None, text='On fire  just like my face  train fire boxing thesweatlife  ')]"
      ]
     },
     "execution_count": 34,
     "metadata": {},
     "output_type": "execute_result"
    }
   ],
   "source": [
    "disasterDf[disasterDf['id'] == 243].rdd.collect()"
   ]
  },
  {
   "cell_type": "code",
   "execution_count": 36,
   "id": "07eb01bb",
   "metadata": {},
   "outputs": [],
   "source": [
    "disasterDf.write.json(\"data/disaster-new.json\")\n",
    "\n",
    "spark.stop()"
   ]
  }
 ],
 "metadata": {
  "kernelspec": {
   "display_name": "bigdata_analysis",
   "language": "python",
   "name": "bigdata_analysis"
  },
  "language_info": {
   "codemirror_mode": {
    "name": "ipython",
    "version": 3
   },
   "file_extension": ".py",
   "mimetype": "text/x-python",
   "name": "python",
   "nbconvert_exporter": "python",
   "pygments_lexer": "ipython3",
   "version": "3.8.11"
  }
 },
 "nbformat": 4,
 "nbformat_minor": 5
}
