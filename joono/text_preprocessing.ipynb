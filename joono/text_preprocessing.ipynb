{
 "cells": [
  {
   "cell_type": "code",
   "execution_count": 1,
   "id": "215748a6",
   "metadata": {},
   "outputs": [
    {
     "name": "stderr",
     "output_type": "stream",
     "text": [
      "21/11/09 13:16:43 WARN NativeCodeLoader: Unable to load native-hadoop library for your platform... using builtin-java classes where applicable\n",
      "Using Spark's default log4j profile: org/apache/spark/log4j-defaults.properties\n",
      "Setting default log level to \"WARN\".\n",
      "To adjust logging level use sc.setLogLevel(newLevel). For SparkR, use setLogLevel(newLevel).\n",
      "21/11/09 13:16:44 WARN Utils: Service 'SparkUI' could not bind on port 4040. Attempting port 4041.\n",
      "                                                                                \r"
     ]
    },
    {
     "name": "stdout",
     "output_type": "stream",
     "text": [
      "\n",
      "============== before transform ==================\n",
      "root\n",
      " |-- created_at: long (nullable = true)\n",
      " |-- hashtags: array (nullable = true)\n",
      " |    |-- element: string (containsNull = true)\n",
      " |-- language: string (nullable = true)\n",
      " |-- tweet: string (nullable = true)\n",
      " |-- username: string (nullable = true)\n",
      "\n",
      "root\n",
      " |-- created_at: long (nullable = true)\n",
      " |-- hashtags: array (nullable = true)\n",
      " |    |-- element: string (containsNull = true)\n",
      " |-- language: string (nullable = true)\n",
      " |-- tweet: string (nullable = true)\n",
      " |-- username: string (nullable = true)\n",
      "\n",
      "400 400\n",
      "\n",
      "============== after transform ===================\n",
      "root\n",
      " |-- id: long (nullable = false)\n",
      " |-- keyword: string (nullable = true)\n",
      " |-- location: string (nullable = true)\n",
      " |-- text: string (nullable = true)\n",
      "\n",
      "root\n",
      " |-- id: long (nullable = false)\n",
      " |-- keyword: string (nullable = true)\n",
      " |-- location: string (nullable = true)\n",
      " |-- text: string (nullable = true)\n",
      "\n",
      "400 400\n"
     ]
    }
   ],
   "source": [
    "import pyspark\n",
    "import json\n",
    "\n",
    "from pyspark.sql.functions import udf\n",
    "from pyspark.sql.types import StringType, IntegerType\n",
    "from pyspark.sql.functions import lit # to add null column\n",
    "from pyspark.sql.functions import monotonically_increasing_id\n",
    "\n",
    "# pyspark init ===========================================\n",
    "spark = pyspark.sql.SparkSession\\\n",
    "    .builder\\\n",
    "    .master('local')\\\n",
    "    .appName('ML-learning')\\\n",
    "    .config(conf=pyspark.SparkConf())\\\n",
    "    .getOrCreate()\n",
    "\n",
    "# read json file and print schema =======================\n",
    "disasterDf = spark.read.json(\"data/disaster.json\")\n",
    "non_disasterDf = spark.read.json(\"data/non_disaster.json\")\n",
    "print(\"\\n============== before transform ==================\")\n",
    "disasterDf.printSchema()\n",
    "non_disasterDf.printSchema()\n",
    "\n",
    "# drop language username created_at columns ============\n",
    "disasterDf = disasterDf.drop(\"language\").drop('username').drop(\"created_at\")\n",
    "non_disasterDf = non_disasterDf.drop(\"language\").drop('username').drop(\"created_at\")\n",
    "\n",
    "# merge hashtags with \"%20\" and chname hashtags to keyword \n",
    "mergeHashtags = udf(lambda x: \"%20\".join(x), StringType())\n",
    "\n",
    "disasterDf = disasterDf.withColumn(\"keyword\", mergeHashtags(disasterDf[\"hashtags\"]))\n",
    "disasterDf = disasterDf.drop('hashtags')\n",
    "\n",
    "non_disasterDf = non_disasterDf.withColumn(\"keyword\", mergeHashtags(non_disasterDf[\"hashtags\"]))\n",
    "non_disasterDf = non_disasterDf.drop('hashtags')\n",
    "\n",
    "# chname tweet to text ================================\n",
    "disasterDf = disasterDf.withColumnRenamed(\"tweet\", \"text\")\n",
    "non_disasterDf = non_disasterDf.withColumnRenamed(\"tweet\", \"text\")\n",
    "\n",
    "# add null column named location ======================\n",
    "disasterDf = disasterDf.withColumn(\"location\", lit(None).cast(StringType()))\n",
    "non_disasterDf = non_disasterDf.withColumn(\"location\", lit(None).cast(StringType()))\n",
    "\n",
    "# add \"id\" column =====================================\n",
    "disasterDf = disasterDf.withColumn(\"id\", monotonically_increasing_id())\n",
    "non_disasterDf = non_disasterDf.withColumn(\"id\", monotonically_increasing_id())\n",
    "\n",
    "# rearrange order of columns ==========================\n",
    "disasterDf = disasterDf.select(\"id\", \"keyword\", \"location\", \"text\")\n",
    "non_disasterDf = non_disasterDf.select(\"id\", \"keyword\", \"location\", \"text\")\n",
    "print(disasterDf.count(), non_disasterDf.count())\n",
    "\n",
    "print(\"\\n============== after transform ===================\")\n",
    "disasterDf.printSchema()\n",
    "non_disasterDf.printSchema()\n",
    "print(disasterDf.count(), non_disasterDf.count())"
   ]
  },
  {
   "cell_type": "markdown",
   "id": "8cdc3e80",
   "metadata": {},
   "source": [
    "### HTML 제거"
   ]
  },
  {
   "cell_type": "code",
   "execution_count": 2,
   "id": "acd4eb41",
   "metadata": {},
   "outputs": [],
   "source": [
    "import re\n",
    "\n",
    "html_regexps = re.compile(r\"https?://[a-zA-Z0-9/.]*\\b\")\n",
    "removeHtml = udf(lambda x: html_regexps.sub(\"\", x), StringType())\n",
    "\n",
    "disasterDf = disasterDf.withColumn(\"text\", removeHtml(disasterDf['text']))\n",
    "non_disasterDf = non_disasterDf.withColumn(\"text\", removeHtml(non_disasterDf['text']))\n"
   ]
  },
  {
   "cell_type": "markdown",
   "id": "a14e8566",
   "metadata": {},
   "source": [
    "### 이모티콘 제거"
   ]
  },
  {
   "cell_type": "code",
   "execution_count": 3,
   "id": "945d21d9",
   "metadata": {},
   "outputs": [],
   "source": [
    "emoji_pattern = re.compile(\"[\"\n",
    "        u\"\\U0001F600-\\U0001F64F\"  # emoticons\n",
    "        u\"\\U0001F300-\\U0001F5FF\"  # symbols & pictographs\n",
    "        u\"\\U0001F680-\\U0001F6FF\"  # transport & map symbols\n",
    "        u\"\\U0001F1E0-\\U0001F1FF\"  # flags (iOS)\n",
    "        u\"\\U00002500-\\U00002BEF\"  # chinese char\n",
    "        u\"\\U00002702-\\U000027B0\"\n",
    "        u\"\\U00002702-\\U000027B0\"\n",
    "        u\"\\U000024C2-\\U0001F251\"\n",
    "        u\"\\U0001f926-\\U0001f937\"\n",
    "        u\"\\U00010000-\\U0010ffff\"\n",
    "        u\"\\u2640-\\u2642\" \n",
    "        u\"\\u2600-\\u2B55\"\n",
    "        u\"\\u200d\"\n",
    "        u\"\\u23cf\"\n",
    "        u\"\\u23e9\"\n",
    "        u\"\\u231a\"\n",
    "        u\"\\ufe0f\"  # dingbats\n",
    "        u\"\\u3030\"\n",
    "                      \"]+\", re.UNICODE)\n",
    "\n",
    "remove_emoji = udf(lambda x: emoji_pattern.sub(\"\", x), StringType())\n",
    "disasterDf = disasterDf.withColumn(\"text\", remove_emoji(disasterDf[\"text\"]))\n",
    "non_disasterDf = non_disasterDf.withColumn(\"text\", remove_emoji(non_disasterDf[\"text\"]))"
   ]
  },
  {
   "cell_type": "markdown",
   "id": "e4efff09",
   "metadata": {},
   "source": [
    "### punctuations 제거"
   ]
  },
  {
   "cell_type": "code",
   "execution_count": 4,
   "id": "db748716",
   "metadata": {},
   "outputs": [
    {
     "data": {
      "text/plain": [
       "'asdfa ja9j2r okaoisjd fjaoIJ ROA2J'"
      ]
     },
     "execution_count": 4,
     "metadata": {},
     "output_type": "execute_result"
    }
   ],
   "source": [
    "import string\n",
    "\n",
    "myStr = 'asdfa ;ja;9j2r; ok;aoisjd f;j;aoIJ R;OA2J'\n",
    "table = str.maketrans('', '', string.punctuation)\n",
    "myStr.translate(table)"
   ]
  },
  {
   "cell_type": "code",
   "execution_count": 5,
   "id": "0695c5c3",
   "metadata": {},
   "outputs": [],
   "source": [
    "table = str.maketrans('', '', string.punctuation)\n",
    "remove_punctuation = udf(lambda x: x.translate(table), StringType())\n",
    "disasterDf = disasterDf.withColumn(\"text\", remove_punctuation(disasterDf[\"text\"]))\n",
    "non_disasterDf = non_disasterDf.withColumn(\"text\", remove_punctuation(non_disasterDf[\"text\"]))"
   ]
  },
  {
   "cell_type": "markdown",
   "id": "9a212adb",
   "metadata": {},
   "source": [
    "## strip"
   ]
  },
  {
   "cell_type": "code",
   "execution_count": 6,
   "id": "965173fc",
   "metadata": {},
   "outputs": [],
   "source": [
    "strip_udf = udf(lambda x: x.strip(), StringType())\n",
    "disasterDf = disasterDf.withColumn(\"text\", strip_udf(disasterDf[\"text\"]))\n",
    "non_disasterDf = non_disasterDf.withColumn(\"text\", strip_udf(non_disasterDf[\"text\"]))"
   ]
  },
  {
   "cell_type": "markdown",
   "id": "fb06da26",
   "metadata": {},
   "source": [
    "## Save json files"
   ]
  },
  {
   "cell_type": "code",
   "execution_count": 8,
   "id": "07eb01bb",
   "metadata": {},
   "outputs": [
    {
     "name": "stderr",
     "output_type": "stream",
     "text": [
      "                                                                                \r"
     ]
    }
   ],
   "source": [
    "# save DataFrame as json file =========================\n",
    "disasterDf.write.json('data/disaster-new.json')\n",
    "non_disasterDf.write.json('data/non_disaster-new.json')\n",
    "\n",
    "disasterDf.write.csv('data/disaster-new.csv')\n",
    "non_disasterDf.write.csv('data/non_disaster-new.csv')"
   ]
  },
  {
   "cell_type": "code",
   "execution_count": 9,
   "id": "24450c36",
   "metadata": {},
   "outputs": [],
   "source": [
    "spark.stop()"
   ]
  },
  {
   "cell_type": "code",
   "execution_count": null,
   "id": "80002f83",
   "metadata": {},
   "outputs": [],
   "source": [
    "import string\n",
    "\n",
    "string.punctuation"
   ]
  },
  {
   "cell_type": "code",
   "execution_count": null,
   "id": "61d36a70",
   "metadata": {},
   "outputs": [],
   "source": []
  },
  {
   "cell_type": "code",
   "execution_count": null,
   "id": "d0f895d6",
   "metadata": {},
   "outputs": [],
   "source": []
  }
 ],
 "metadata": {
  "kernelspec": {
   "display_name": "bigdata_analysis",
   "language": "python",
   "name": "bigdata_analysis"
  },
  "language_info": {
   "codemirror_mode": {
    "name": "ipython",
    "version": 3
   },
   "file_extension": ".py",
   "mimetype": "text/x-python",
   "name": "python",
   "nbconvert_exporter": "python",
   "pygments_lexer": "ipython3",
   "version": "3.8.11"
  }
 },
 "nbformat": 4,
 "nbformat_minor": 5
}
